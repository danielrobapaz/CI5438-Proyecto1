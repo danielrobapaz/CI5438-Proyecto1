{
 "cells": [
  {
   "cell_type": "markdown",
   "metadata": {},
   "source": [
    "# Creacion y prueba de la implementacion del algoritmo de descenso de gradiente\n",
    "\n",
    "Se debe probara el algoritmo usando un dataset de 3 columnas y 1000 filas para las cuales se aplicara regresion sobre una de las variables generando una funcion de regresion de la forma $f(x) = w_1 x_1 + w_2 x_2 + w_0$."
   ]
  },
  {
   "cell_type": "code",
   "execution_count": 23,
   "metadata": {},
   "outputs": [],
   "source": [
    "import pandas as pd\n",
    "import numpy as np\n",
    "from sklearn.model_selection import train_test_split"
   ]
  },
  {
   "cell_type": "code",
   "execution_count": 24,
   "metadata": {},
   "outputs": [
    {
     "data": {
      "text/html": [
       "<div>\n",
       "<style scoped>\n",
       "    .dataframe tbody tr th:only-of-type {\n",
       "        vertical-align: middle;\n",
       "    }\n",
       "\n",
       "    .dataframe tbody tr th {\n",
       "        vertical-align: top;\n",
       "    }\n",
       "\n",
       "    .dataframe thead th {\n",
       "        text-align: right;\n",
       "    }\n",
       "</style>\n",
       "<table border=\"1\" class=\"dataframe\">\n",
       "  <thead>\n",
       "    <tr style=\"text-align: right;\">\n",
       "      <th></th>\n",
       "      <th>var_a</th>\n",
       "      <th>var_b</th>\n",
       "      <th>var_c</th>\n",
       "    </tr>\n",
       "  </thead>\n",
       "  <tbody>\n",
       "  </tbody>\n",
       "</table>\n",
       "</div>"
      ],
      "text/plain": [
       "Empty DataFrame\n",
       "Columns: [var_a, var_b, var_c]\n",
       "Index: []"
      ]
     },
     "execution_count": 24,
     "metadata": {},
     "output_type": "execute_result"
    }
   ],
   "source": [
    "training_df = pd.DataFrame(columns=['var_a', 'var_b', 'var_c'])\n",
    "training_df"
   ]
  },
  {
   "cell_type": "markdown",
   "metadata": {},
   "source": [
    "La funcion ``` np.random.rand() ``` genera numeros aleatorios entre [0, 1) de una poblacion con distribucion uniforme"
   ]
  },
  {
   "cell_type": "code",
   "execution_count": 64,
   "metadata": {},
   "outputs": [
    {
     "data": {
      "text/html": [
       "<div>\n",
       "<style scoped>\n",
       "    .dataframe tbody tr th:only-of-type {\n",
       "        vertical-align: middle;\n",
       "    }\n",
       "\n",
       "    .dataframe tbody tr th {\n",
       "        vertical-align: top;\n",
       "    }\n",
       "\n",
       "    .dataframe thead th {\n",
       "        text-align: right;\n",
       "    }\n",
       "</style>\n",
       "<table border=\"1\" class=\"dataframe\">\n",
       "  <thead>\n",
       "    <tr style=\"text-align: right;\">\n",
       "      <th></th>\n",
       "      <th>var_a</th>\n",
       "      <th>var_b</th>\n",
       "      <th>var_c</th>\n",
       "    </tr>\n",
       "  </thead>\n",
       "  <tbody>\n",
       "    <tr>\n",
       "      <th>0</th>\n",
       "      <td>1.323503</td>\n",
       "      <td>0.780373</td>\n",
       "      <td>0.625588</td>\n",
       "    </tr>\n",
       "    <tr>\n",
       "      <th>1</th>\n",
       "      <td>1.166403</td>\n",
       "      <td>0.438199</td>\n",
       "      <td>0.290260</td>\n",
       "    </tr>\n",
       "    <tr>\n",
       "      <th>2</th>\n",
       "      <td>0.759212</td>\n",
       "      <td>0.308122</td>\n",
       "      <td>0.622399</td>\n",
       "    </tr>\n",
       "    <tr>\n",
       "      <th>3</th>\n",
       "      <td>1.734317</td>\n",
       "      <td>0.775125</td>\n",
       "      <td>0.073853</td>\n",
       "    </tr>\n",
       "    <tr>\n",
       "      <th>4</th>\n",
       "      <td>1.283433</td>\n",
       "      <td>0.366285</td>\n",
       "      <td>0.021308</td>\n",
       "    </tr>\n",
       "    <tr>\n",
       "      <th>...</th>\n",
       "      <td>...</td>\n",
       "      <td>...</td>\n",
       "      <td>...</td>\n",
       "    </tr>\n",
       "    <tr>\n",
       "      <th>995</th>\n",
       "      <td>1.691826</td>\n",
       "      <td>0.750912</td>\n",
       "      <td>0.091625</td>\n",
       "    </tr>\n",
       "    <tr>\n",
       "      <th>996</th>\n",
       "      <td>0.336288</td>\n",
       "      <td>0.116265</td>\n",
       "      <td>0.877290</td>\n",
       "    </tr>\n",
       "    <tr>\n",
       "      <th>997</th>\n",
       "      <td>1.386687</td>\n",
       "      <td>0.768072</td>\n",
       "      <td>0.522485</td>\n",
       "    </tr>\n",
       "    <tr>\n",
       "      <th>998</th>\n",
       "      <td>0.912278</td>\n",
       "      <td>0.145712</td>\n",
       "      <td>0.162139</td>\n",
       "    </tr>\n",
       "    <tr>\n",
       "      <th>999</th>\n",
       "      <td>1.021200</td>\n",
       "      <td>0.640848</td>\n",
       "      <td>0.803991</td>\n",
       "    </tr>\n",
       "  </tbody>\n",
       "</table>\n",
       "<p>1000 rows × 3 columns</p>\n",
       "</div>"
      ],
      "text/plain": [
       "        var_a     var_b     var_c\n",
       "0    1.323503  0.780373  0.625588\n",
       "1    1.166403  0.438199  0.290260\n",
       "2    0.759212  0.308122  0.622399\n",
       "3    1.734317  0.775125  0.073853\n",
       "4    1.283433  0.366285  0.021308\n",
       "..        ...       ...       ...\n",
       "995  1.691826  0.750912  0.091625\n",
       "996  0.336288  0.116265  0.877290\n",
       "997  1.386687  0.768072  0.522485\n",
       "998  0.912278  0.145712  0.162139\n",
       "999  1.021200  0.640848  0.803991\n",
       "\n",
       "[1000 rows x 3 columns]"
      ]
     },
     "execution_count": 64,
     "metadata": {},
     "output_type": "execute_result"
    }
   ],
   "source": [
    "n_values = 1000\n",
    "#Coeficientes que deberia predecir el modelo como vector de pesos\n",
    "w0 = 0.86\n",
    "w1 = 1.2\n",
    "w2 = -0.756\n",
    "training_df['var_b'] = np.random.rand(n_values)\n",
    "training_df['var_c'] = np.random.rand(n_values)\n",
    "training_df['var_a'] = [w0 + training_df['var_b'][i]*w1 + training_df['var_c'][i]*w2 for i in range(len(training_df))]\n",
    "training_df"
   ]
  },
  {
   "cell_type": "markdown",
   "metadata": {},
   "source": [
    "# Clase prediction_model\n",
    "\n",
    "El modelo de predicción es abstraído en una clase que recibe un data set, una variable dependiente que debe ser el nombre de alguna columna en el data set ingresado, y un arreglo de variables independientes en función de las cuales se va a generar el modelo para estimar la variable dependiente. Esta clase tiene únicamente la responsabilidad de calcular los pesos para las variables independientes y no se encarga de, por ejemplo, efectuar el preprocesamiento del dataset ingresado."
   ]
  },
  {
   "cell_type": "code",
   "execution_count": 112,
   "metadata": {},
   "outputs": [],
   "source": [
    "class prediction_model:\n",
    "    def __init__(self, data_set: pd.DataFrame, dep_var: str, ind_vars: list[str], learning_rate: float, treshold: float):\n",
    "        self.data_set = data_set\n",
    "        self.dep_var = dep_var\n",
    "        self.ind_vars = ind_vars\n",
    "        self.learning_rate = learning_rate\n",
    "        self.weights: pd.Series[float] = None\n",
    "        self.treshold = treshold\n",
    "        self.max_iter = 50000\n",
    "    \n",
    "    '''\n",
    "    Función que retorna el vector con los pesos de las variables independientes en un objeto \n",
    "    Series de pandas. El algoritmo solo se ejecuta la primera vez que el metodo es invocado,\n",
    "    en cada llamada subsecuente al método se retorna el vector de pesos ya calculados anteriormente.\n",
    "    '''\n",
    "    def get_model(self, ):\n",
    "        #Si el modelo ya se calculó se retorna\n",
    "        if self.weights:\n",
    "            return self.weights\n",
    "        else:\n",
    "            #Se inicializan los pesos en cero\n",
    "            self.weights = pd.Series([0.0]*(len(self.ind_vars)+1))\n",
    "            y = self.data_set[self.dep_var]\n",
    "            x = self.data_set[self.ind_vars]\n",
    "            x_train, x_test, y_train, y_test = train_test_split(x, y, test_size = 0.2, random_state=0)\n",
    "            x_train.insert(0, \"ind_term\", [1.0]*len(x_train)) #Insertar columna de 1's para el termino independiente w0\n",
    "\n",
    "            i = 0\n",
    "            while True:\n",
    "                y_pred = np.dot(self.weights, x_train.T)\n",
    "                err = y_train - y_pred\n",
    "                dw = (2/len(x_train)) * np.dot(err.T, x_train)\n",
    "                self.weights = self.weights + (self.learning_rate*dw)\n",
    "                i += 1\n",
    "                if sum(err) < self.treshold:\n",
    "                    print(\"Number of iterations:\", i)\n",
    "                    break\n",
    "                \n",
    "            return self.weights\n",
    "            "
   ]
  },
  {
   "cell_type": "code",
   "execution_count": 113,
   "metadata": {},
   "outputs": [
    {
     "name": "stdout",
     "output_type": "stream",
     "text": [
      "Number of iterations: 86231\n"
     ]
    },
    {
     "data": {
      "text/plain": [
       "0    0.859976\n",
       "1    1.200020\n",
       "2   -0.755976\n",
       "dtype: float64"
      ]
     },
     "execution_count": 113,
     "metadata": {},
     "output_type": "execute_result"
    }
   ],
   "source": [
    "example = prediction_model(training_df, 'var_a', ['var_b', 'var_c'], 0.001, 0.001)\n",
    "w = example.get_model()\n",
    "w"
   ]
  }
 ],
 "metadata": {
  "kernelspec": {
   "display_name": ".venv",
   "language": "python",
   "name": "python3"
  },
  "language_info": {
   "codemirror_mode": {
    "name": "ipython",
    "version": 3
   },
   "file_extension": ".py",
   "mimetype": "text/x-python",
   "name": "python",
   "nbconvert_exporter": "python",
   "pygments_lexer": "ipython3",
   "version": "3.11.5"
  }
 },
 "nbformat": 4,
 "nbformat_minor": 2
}
